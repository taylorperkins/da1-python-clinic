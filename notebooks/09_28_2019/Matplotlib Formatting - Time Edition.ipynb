{
 "cells": [
  {
   "cell_type": "code",
   "execution_count": null,
   "metadata": {},
   "outputs": [],
   "source": [
    "import os\n",
    "\n",
    "try:\n",
    "    from dotenv import load_dotenv\n",
    "    load_dotenv()\n",
    "except:\n",
    "    print('Hey, check your data folder (DATA_FOLDER)!!')\n",
    "    \n",
    "finally:\n",
    "    DATA_FOLDER = os.getenv('DATA_FOLDER', '../../data') + '/09_28_2019'"
   ]
  },
  {
   "cell_type": "code",
   "execution_count": null,
   "metadata": {},
   "outputs": [],
   "source": [
    "from datetime import datetime\n",
    "\n",
    "import warnings\n",
    "warnings.filterwarnings(\"ignore\")\n",
    "\n",
    "import pandas as pd\n",
    "import matplotlib.pyplot as plt\n",
    "\n",
    "from pandas.plotting import register_matplotlib_converters\n",
    "register_matplotlib_converters()\n",
    "\n",
    "%matplotlib inline"
   ]
  },
  {
   "cell_type": "markdown",
   "metadata": {},
   "source": [
    "<hr>\n",
    "\n",
    "## Get the data"
   ]
  },
  {
   "cell_type": "code",
   "execution_count": null,
   "metadata": {},
   "outputs": [],
   "source": [
    "donations = pd.read_csv(f'{DATA_FOLDER}/processed_donations.csv')\n",
    "donations.head()"
   ]
  },
  {
   "cell_type": "code",
   "execution_count": null,
   "metadata": {},
   "outputs": [],
   "source": [
    "donations.info()"
   ]
  },
  {
   "cell_type": "markdown",
   "metadata": {},
   "source": [
    "### Convert time column, and access groups by year"
   ]
  },
  {
   "cell_type": "code",
   "execution_count": null,
   "metadata": {},
   "outputs": [],
   "source": [
    "donations['created_at'] = pd.to_datetime(donations['created_at'])\n",
    "\n",
    "yearly_group = donations.groupby(donations.created_at.dt.year)\n",
    "yearly_group.get_group(2013)"
   ]
  },
  {
   "cell_type": "markdown",
   "metadata": {},
   "source": [
    "<hr>\n",
    "\n",
    "## Plot overall count of donations for a given year"
   ]
  },
  {
   "cell_type": "code",
   "execution_count": null,
   "metadata": {},
   "outputs": [],
   "source": [
    "donations_2013 = yearly_group.get_group(2013)"
   ]
  },
  {
   "cell_type": "code",
   "execution_count": null,
   "metadata": {},
   "outputs": [],
   "source": [
    "##############################################\n",
    "## SEABORN STYLING\n",
    "##############################################\n",
    "import seaborn as sns; sns.set(style=\"darkgrid\", color_codes=True)\n",
    "\n",
    "\n",
    "##############################################\n",
    "## DATA\n",
    "##############################################\n",
    "donations_2013 = yearly_group.get_group(2013)\n",
    "\n",
    "\n",
    "##############################################\n",
    "## LAYOUT / FIGURE / AXIS\n",
    "##############################################\n",
    "f, ax = plt.subplots(1, 1, figsize=(20, 12))\n",
    "font_props = {'fontweight': 'bold', 'fontsize': 18}\n",
    "\n",
    "\n",
    "##############################################\n",
    "## TITLE\n",
    "##############################################\n",
    "f.suptitle(\n",
    "    '# Donations Per Month for 2013', \n",
    "    fontsize=26, \n",
    "    fontweight='bold', \n",
    "    horizontalalignment='right',\n",
    "    x=0.42,\n",
    "    y=0.96)\n",
    "\n",
    "\n",
    "##############################################\n",
    "## PLOT THE DATA\n",
    "##############################################\n",
    "ax.hist(donations_2013.created_at, bins=12, color='orangered', histtype='bar', ec='black', alpha=0.85)\n",
    "\n",
    "\n",
    "##############################################\n",
    "## UPDATE THE (XY)LABELS\n",
    "##############################################\n",
    "ax.set_xlabel('Time of year', fontdict=font_props)\n",
    "ax.set_ylabel('Count of donations', fontdict=font_props)\n",
    "\n",
    "\n",
    "##############################################\n",
    "## UPDATE THE (XY)TICKLABELS\n",
    "##############################################\n",
    "# For the x ticks, you need to specify the same type that the current data is in.\n",
    "# right now, the x data represents dates for 2013, so we should specify a list of dates\n",
    "# with their labels.\n",
    "tick_positions = [datetime(2013, x, 15) for x in range(1, 13)]\n",
    "tick_labels = [pos.strftime('%B') for pos in tick_positions]\n",
    "\n",
    "# plt.xticks(tick_positions, tick_labels, fontsize=12, rotation=45)\n",
    "ax.set_xticks(tick_positions)\n",
    "ax.set_xticklabels(tick_labels, fontdict=font_props, rotation=45)\n",
    "\n",
    "# if you just want to update the properties of a pre-existing tick style.. \n",
    "# you can access the property with `<ax>.get_yticks()`\n",
    "ax.set_yticklabels(ax.get_yticks(), fontdict=font_props, rotation=30)\n",
    "\n",
    "\n",
    "##############################################\n",
    "## FINAL LAYOUT\n",
    "##############################################\n",
    "f.tight_layout();"
   ]
  },
  {
   "cell_type": "code",
   "execution_count": null,
   "metadata": {},
   "outputs": [],
   "source": []
  },
  {
   "cell_type": "code",
   "execution_count": null,
   "metadata": {},
   "outputs": [],
   "source": []
  }
 ],
 "metadata": {
  "kernelspec": {
   "display_name": "Python 3",
   "language": "python",
   "name": "python3"
  },
  "language_info": {
   "codemirror_mode": {
    "name": "ipython",
    "version": 3
   },
   "file_extension": ".py",
   "mimetype": "text/x-python",
   "name": "python",
   "nbconvert_exporter": "python",
   "pygments_lexer": "ipython3",
   "version": "3.7.3"
  }
 },
 "nbformat": 4,
 "nbformat_minor": 2
}
