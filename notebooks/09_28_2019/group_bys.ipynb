{
 "cells": [
  {
   "cell_type": "code",
   "execution_count": null,
   "metadata": {},
   "outputs": [],
   "source": [
    "import os\n",
    "\n",
    "try:\n",
    "    from dotenv import load_dotenv\n",
    "    load_dotenv()\n",
    "except:\n",
    "    print('Hey, check your data folder (DATA_FOLDER)!!')\n",
    "    \n",
    "finally:\n",
    "    DATA_FOLDER = os.getenv('DATA_FOLDER', '../../data') + '/09_28_2019'"
   ]
  },
  {
   "cell_type": "code",
   "execution_count": null,
   "metadata": {},
   "outputs": [],
   "source": [
    "import pandas as pd\n",
    "import numpy as np\n",
    "\n",
    "\n",
    "import matplotlib.pyplot as plt\n",
    "\n",
    "%matplotlib inline"
   ]
  },
  {
   "cell_type": "markdown",
   "metadata": {},
   "source": [
    "<hr>"
   ]
  },
  {
   "cell_type": "markdown",
   "metadata": {},
   "source": [
    "### Read in the data"
   ]
  },
  {
   "cell_type": "code",
   "execution_count": null,
   "metadata": {
    "scrolled": true
   },
   "outputs": [],
   "source": [
    "donations = pd.read_csv(f'{DATA_FOLDER}/processed_donations.csv')\n",
    "donations.head()"
   ]
  },
  {
   "cell_type": "markdown",
   "metadata": {},
   "source": [
    "<hr>"
   ]
  },
  {
   "cell_type": "markdown",
   "metadata": {},
   "source": [
    "## [Pandas GroupBy](https://pandas.pydata.org/pandas-docs/stable/reference/groupby.html)\n",
    "\n"
   ]
  },
  {
   "cell_type": "markdown",
   "metadata": {},
   "source": [
    "The docs suggest 3 main parts to the groupby object.\n",
    "1. How to access groups, and iteration\n",
    "2. Ways to apply functions to groups\n",
    "3. Available computations / stats that are supported by groupby objects"
   ]
  },
  {
   "cell_type": "code",
   "execution_count": null,
   "metadata": {},
   "outputs": [],
   "source": [
    "yearly_groupby = donations.groupby('year')"
   ]
  },
  {
   "cell_type": "markdown",
   "metadata": {},
   "source": [
    "<hr>"
   ]
  },
  {
   "cell_type": "markdown",
   "metadata": {},
   "source": [
    "## Accessing groups"
   ]
  },
  {
   "cell_type": "markdown",
   "metadata": {},
   "source": [
    "### By _Row Label_"
   ]
  },
  {
   "cell_type": "code",
   "execution_count": null,
   "metadata": {},
   "outputs": [],
   "source": [
    "yearly_groupby.groups"
   ]
  },
  {
   "cell_type": "markdown",
   "metadata": {},
   "source": [
    "### By _Row Index_"
   ]
  },
  {
   "cell_type": "code",
   "execution_count": null,
   "metadata": {},
   "outputs": [],
   "source": [
    "yearly_groupby.indices"
   ]
  },
  {
   "cell_type": "markdown",
   "metadata": {},
   "source": [
    "Just a dict! \n",
    "This makes it really easy to select specific groups individually."
   ]
  },
  {
   "cell_type": "code",
   "execution_count": null,
   "metadata": {},
   "outputs": [],
   "source": [
    "type(yearly_groupby.groups)"
   ]
  },
  {
   "cell_type": "code",
   "execution_count": null,
   "metadata": {},
   "outputs": [],
   "source": [
    "yearly_groupby.groups[2012]"
   ]
  },
  {
   "cell_type": "markdown",
   "metadata": {},
   "source": [
    "Let's look at the year of 2012.\n",
    "We know that we can select rows based on Index (label or value).. \n",
    "So, we should be able to use `.loc` to reference all the rows from the 2012 group."
   ]
  },
  {
   "cell_type": "markdown",
   "metadata": {},
   "source": [
    "### Accessing group from original dataframe"
   ]
  },
  {
   "cell_type": "code",
   "execution_count": null,
   "metadata": {},
   "outputs": [],
   "source": [
    "# query for rows in the 2012 group, and give me all the columns\n",
    "donations.loc[yearly_groupby.groups[2012], :]"
   ]
  },
  {
   "cell_type": "markdown",
   "metadata": {},
   "source": [
    "### Accessing multiple groups.."
   ]
  },
  {
   "cell_type": "code",
   "execution_count": null,
   "metadata": {
    "scrolled": true
   },
   "outputs": [],
   "source": [
    "# add the sets of indices together into one list\n",
    "group_2012_2013 = np.concatenate((yearly_groupby.groups[2012], yearly_groupby.groups[2013]), axis=None)\n",
    "\n",
    "donations.loc[group_2012_2013, :]"
   ]
  },
  {
   "cell_type": "markdown",
   "metadata": {},
   "source": [
    "<hr>"
   ]
  },
  {
   "cell_type": "markdown",
   "metadata": {},
   "source": [
    "## Iteration\n",
    "What if we wanted to perform the same operation over all the groups?\n",
    "\n",
    "```\n",
    "GroupBy.__iter__::\n",
    "    Generator yielding sequence of (name, subsetted object)\n",
    "```"
   ]
  },
  {
   "cell_type": "code",
   "execution_count": null,
   "metadata": {},
   "outputs": [],
   "source": [
    "for name, subsetted_object in yearly_groupby:\n",
    "    print(name)\n",
    "    print(f'Name type: {type(name)}')"
   ]
  },
  {
   "cell_type": "code",
   "execution_count": null,
   "metadata": {},
   "outputs": [],
   "source": [
    "for name, subsetted_object in yearly_groupby:\n",
    "    print(subsetted_object.shape)\n",
    "    print(f'subsetted object type: {type(subsetted_object)}')"
   ]
  },
  {
   "cell_type": "markdown",
   "metadata": {},
   "source": [
    "<hr>"
   ]
  },
  {
   "cell_type": "markdown",
   "metadata": {},
   "source": [
    "## Ok, what about computations?"
   ]
  },
  {
   "cell_type": "markdown",
   "metadata": {},
   "source": [
    "### Basic [computations / stats](https://pandas.pydata.org/pandas-docs/stable/reference/groupby.html#computations-descriptive-stats)"
   ]
  },
  {
   "cell_type": "code",
   "execution_count": null,
   "metadata": {},
   "outputs": [],
   "source": [
    "# notice how all of the columns are some sort of numeric type.. Where is ID?\n",
    "yearly_groupby.sum()"
   ]
  },
  {
   "cell_type": "code",
   "execution_count": null,
   "metadata": {},
   "outputs": [],
   "source": [
    "# on a single column --> Returns a (named) series!\n",
    "yearly_groupby.amount.sum()"
   ]
  },
  {
   "cell_type": "code",
   "execution_count": null,
   "metadata": {},
   "outputs": [],
   "source": [
    "type(yearly_groupby.amount.sum())"
   ]
  },
  {
   "cell_type": "code",
   "execution_count": null,
   "metadata": {},
   "outputs": [],
   "source": [
    "# specified columns --> Returns a dataframe!\n",
    "yearly_groupby[['amount', 'second']].sum()"
   ]
  },
  {
   "cell_type": "code",
   "execution_count": null,
   "metadata": {},
   "outputs": [],
   "source": [
    "type(yearly_groupby[['amount', 'second']].sum())"
   ]
  },
  {
   "cell_type": "markdown",
   "metadata": {},
   "source": [
    "Are there other ways to write this? Yep"
   ]
  },
  {
   "cell_type": "markdown",
   "metadata": {},
   "source": [
    "### All the ways to do the same thing.."
   ]
  },
  {
   "cell_type": "code",
   "execution_count": null,
   "metadata": {},
   "outputs": [],
   "source": [
    "yearly_groupby.amount.apply(np.sum)"
   ]
  },
  {
   "cell_type": "code",
   "execution_count": null,
   "metadata": {},
   "outputs": [],
   "source": [
    "yearly_groupby.amount.agg(np.sum)"
   ]
  },
  {
   "cell_type": "code",
   "execution_count": null,
   "metadata": {},
   "outputs": [],
   "source": [
    "yearly_groupby.amount.agg(summed_amount=np.sum)"
   ]
  },
  {
   "cell_type": "code",
   "execution_count": null,
   "metadata": {},
   "outputs": [],
   "source": [
    "yearly_groupby.amount.aggregate(np.sum)"
   ]
  },
  {
   "cell_type": "code",
   "execution_count": null,
   "metadata": {},
   "outputs": [],
   "source": [
    "yearly_groupby.amount.pipe(np.sum)"
   ]
  },
  {
   "cell_type": "markdown",
   "metadata": {},
   "source": [
    "Great!!\n",
    "Now we know 5 ways to do the same thing.\n",
    "What is the use of that??\n",
    "\n",
    "*Why use one over another*:\n",
    "\n",
    "* `Groupby.<function>()` -- Use for a short win! This is great if you already have a column selected, and you only want to do a single computation, and you don't care about the name.\n",
    "    \n",
    "* `GroupBy.agg(..)` -- This is my favorite overall. You know what to expect, you can specify names, and perform multiple operations all in one go. \n",
    "\n",
    "* `GroupBy.apply(func)` -- Create your own function to use as an aggregation! It must take the grouped dataframe as an argument, and return a similar type (dataframe, series). Pandas will know how to join it back together. However, it's slow.\n",
    "\n",
    "* `GroupBy.pipe(..)[.pipe(..)]` -- This is great when you want to \"pipe (or chain)\" multiple aggregations together. Maybe a second aggregation is based off the first, so you need to reference it after the fact.\n",
    "\n",
    "In my opinion.. Erase the remainder from your mind."
   ]
  },
  {
   "cell_type": "markdown",
   "metadata": {},
   "source": [
    "### More complex examples"
   ]
  },
  {
   "cell_type": "code",
   "execution_count": null,
   "metadata": {},
   "outputs": [],
   "source": [
    "donations.head()"
   ]
  },
  {
   "cell_type": "code",
   "execution_count": null,
   "metadata": {},
   "outputs": [],
   "source": [
    "yearly_aggs = yearly_groupby.agg(\n",
    "    {\n",
    "        'id': {\n",
    "            'nunique': 'nunique'\n",
    "        },\n",
    "        'month': {\n",
    "            'most_common': lambda x: x.value_counts().index[0],\n",
    "            'most_uncommon': lambda x: x.value_counts().index[-1],\n",
    "        },\n",
    "        'day': {\n",
    "            'most_common': lambda x: x.value_counts().index[0],\n",
    "            'most_uncommon': lambda x: x.value_counts().index[-1],\n",
    "        }\n",
    "    }\n",
    ")"
   ]
  },
  {
   "cell_type": "code",
   "execution_count": null,
   "metadata": {},
   "outputs": [],
   "source": [
    "yearly_aggs"
   ]
  },
  {
   "cell_type": "markdown",
   "metadata": {},
   "source": [
    "Draw histograms of the results.."
   ]
  },
  {
   "cell_type": "code",
   "execution_count": null,
   "metadata": {},
   "outputs": [],
   "source": [
    "yearly_aggs.hist(figsize=(20, 10));"
   ]
  },
  {
   "cell_type": "markdown",
   "metadata": {},
   "source": [
    "<hr>"
   ]
  },
  {
   "cell_type": "markdown",
   "metadata": {},
   "source": [
    "### Fix the MultiIndex"
   ]
  },
  {
   "cell_type": "code",
   "execution_count": null,
   "metadata": {},
   "outputs": [],
   "source": [
    "yearly_aggs.columns"
   ]
  },
  {
   "cell_type": "code",
   "execution_count": null,
   "metadata": {},
   "outputs": [],
   "source": [
    "yearly_aggs.columns = [f'{agg}__{col}' for col, agg in yearly_aggs.columns]\n",
    "yearly_aggs.columns"
   ]
  },
  {
   "cell_type": "markdown",
   "metadata": {},
   "source": [
    "Convert to a normal dataframe.."
   ]
  },
  {
   "cell_type": "code",
   "execution_count": null,
   "metadata": {},
   "outputs": [],
   "source": [
    "yearly_aggs.reset_index()"
   ]
  },
  {
   "cell_type": "code",
   "execution_count": null,
   "metadata": {},
   "outputs": [],
   "source": []
  }
 ],
 "metadata": {
  "kernelspec": {
   "display_name": "Python 3",
   "language": "python",
   "name": "python3"
  },
  "language_info": {
   "codemirror_mode": {
    "name": "ipython",
    "version": 3
   },
   "file_extension": ".py",
   "mimetype": "text/x-python",
   "name": "python",
   "nbconvert_exporter": "python",
   "pygments_lexer": "ipython3",
   "version": "3.7.3"
  }
 },
 "nbformat": 4,
 "nbformat_minor": 2
}
