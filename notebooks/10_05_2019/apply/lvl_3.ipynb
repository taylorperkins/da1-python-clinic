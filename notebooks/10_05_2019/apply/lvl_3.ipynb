{
 "cells": [
  {
   "cell_type": "code",
   "execution_count": 11,
   "metadata": {},
   "outputs": [],
   "source": [
    "from datetime import date, time, datetime, timedelta\n",
    "\n",
    "import pandas as pd"
   ]
  },
  {
   "cell_type": "code",
   "execution_count": 23,
   "metadata": {},
   "outputs": [],
   "source": [
    "my_dataframe = pd.DataFrame(\n",
    "    {\n",
    "        'year': [2010, 2012, 1990, 1978, 2001],\n",
    "        'month': [1, 2, 3, 4, 5],\n",
    "        'day': [5, 10, 15, 10, 25],\n",
    "        'hour': [1, 11, 13, 19, 23],\n",
    "        'minute': [8, 16, 24, 32, 40],\n",
    "        'second': [6, 2, 10, 54, 24]\n",
    "    }\n",
    ")"
   ]
  },
  {
   "cell_type": "code",
   "execution_count": 24,
   "metadata": {},
   "outputs": [
    {
     "data": {
      "text/plain": [
       "0    01:08:06\n",
       "1    11:16:02\n",
       "2    13:24:10\n",
       "3    19:32:54\n",
       "4    23:40:24\n",
       "dtype: object"
      ]
     },
     "execution_count": 24,
     "metadata": {},
     "output_type": "execute_result"
    }
   ],
   "source": [
    "def calc_time(series):\n",
    "    return time(series.hour, series.minute, series.second)\n",
    "\n",
    "\n",
    "# this example takes 3 columns to use in a function! Returns a series\n",
    "my_dataframe[['hour', 'minute', 'second']].apply(calc_time, axis=1)"
   ]
  },
  {
   "cell_type": "code",
   "execution_count": 25,
   "metadata": {},
   "outputs": [
    {
     "data": {
      "text/plain": [
       "0    2010-01-05\n",
       "1    2012-02-10\n",
       "2    1990-03-15\n",
       "3    1978-04-10\n",
       "4    2001-05-25\n",
       "dtype: object"
      ]
     },
     "execution_count": 25,
     "metadata": {},
     "output_type": "execute_result"
    }
   ],
   "source": [
    "def calc_date(series):\n",
    "    return date(series.year, series.month, series.day)\n",
    "\n",
    "\n",
    "# same as previous example\n",
    "my_dataframe[['year', 'month', 'day']].apply(calc_date, axis=1)"
   ]
  },
  {
   "cell_type": "code",
   "execution_count": 26,
   "metadata": {},
   "outputs": [
    {
     "data": {
      "text/plain": [
       "0    (2010-01-05, 01:08:06)\n",
       "1    (2012-02-10, 11:16:02)\n",
       "2    (1990-03-15, 13:24:10)\n",
       "3    (1978-04-10, 19:32:54)\n",
       "4    (2001-05-25, 23:40:24)\n",
       "dtype: object"
      ]
     },
     "execution_count": 26,
     "metadata": {},
     "output_type": "execute_result"
    }
   ],
   "source": [
    "def calc_date_and_time(series):\n",
    "    return calc_date(series), calc_time(series)\n",
    "\n",
    "\n",
    "# this one returns 2 values!\n",
    "my_dataframe.apply(calc_date_and_time, axis=1)"
   ]
  },
  {
   "cell_type": "code",
   "execution_count": 27,
   "metadata": {},
   "outputs": [
    {
     "data": {
      "text/html": [
       "<div>\n",
       "<style scoped>\n",
       "    .dataframe tbody tr th:only-of-type {\n",
       "        vertical-align: middle;\n",
       "    }\n",
       "\n",
       "    .dataframe tbody tr th {\n",
       "        vertical-align: top;\n",
       "    }\n",
       "\n",
       "    .dataframe thead th {\n",
       "        text-align: right;\n",
       "    }\n",
       "</style>\n",
       "<table border=\"1\" class=\"dataframe\">\n",
       "  <thead>\n",
       "    <tr style=\"text-align: right;\">\n",
       "      <th></th>\n",
       "      <th>year</th>\n",
       "      <th>month</th>\n",
       "      <th>day</th>\n",
       "      <th>hour</th>\n",
       "      <th>minute</th>\n",
       "      <th>second</th>\n",
       "      <th>date</th>\n",
       "      <th>time</th>\n",
       "    </tr>\n",
       "  </thead>\n",
       "  <tbody>\n",
       "    <tr>\n",
       "      <td>0</td>\n",
       "      <td>2010</td>\n",
       "      <td>1</td>\n",
       "      <td>5</td>\n",
       "      <td>1</td>\n",
       "      <td>8</td>\n",
       "      <td>6</td>\n",
       "      <td>2010-01-05</td>\n",
       "      <td>01:08:06</td>\n",
       "    </tr>\n",
       "    <tr>\n",
       "      <td>1</td>\n",
       "      <td>2012</td>\n",
       "      <td>2</td>\n",
       "      <td>10</td>\n",
       "      <td>11</td>\n",
       "      <td>16</td>\n",
       "      <td>2</td>\n",
       "      <td>2012-02-10</td>\n",
       "      <td>11:16:02</td>\n",
       "    </tr>\n",
       "    <tr>\n",
       "      <td>2</td>\n",
       "      <td>1990</td>\n",
       "      <td>3</td>\n",
       "      <td>15</td>\n",
       "      <td>13</td>\n",
       "      <td>24</td>\n",
       "      <td>10</td>\n",
       "      <td>1990-03-15</td>\n",
       "      <td>13:24:10</td>\n",
       "    </tr>\n",
       "    <tr>\n",
       "      <td>3</td>\n",
       "      <td>1978</td>\n",
       "      <td>4</td>\n",
       "      <td>10</td>\n",
       "      <td>19</td>\n",
       "      <td>32</td>\n",
       "      <td>54</td>\n",
       "      <td>1978-04-10</td>\n",
       "      <td>19:32:54</td>\n",
       "    </tr>\n",
       "    <tr>\n",
       "      <td>4</td>\n",
       "      <td>2001</td>\n",
       "      <td>5</td>\n",
       "      <td>25</td>\n",
       "      <td>23</td>\n",
       "      <td>40</td>\n",
       "      <td>24</td>\n",
       "      <td>2001-05-25</td>\n",
       "      <td>23:40:24</td>\n",
       "    </tr>\n",
       "  </tbody>\n",
       "</table>\n",
       "</div>"
      ],
      "text/plain": [
       "   year  month  day  hour  minute  second        date      time\n",
       "0  2010      1    5     1       8       6  2010-01-05  01:08:06\n",
       "1  2012      2   10    11      16       2  2012-02-10  11:16:02\n",
       "2  1990      3   15    13      24      10  1990-03-15  13:24:10\n",
       "3  1978      4   10    19      32      54  1978-04-10  19:32:54\n",
       "4  2001      5   25    23      40      24  2001-05-25  23:40:24"
      ]
     },
     "execution_count": 27,
     "metadata": {},
     "output_type": "execute_result"
    }
   ],
   "source": [
    "# takes the 2 return values from the calc_date_and_time function, \n",
    "# and creates 2 brand new columns on the original dataframe\n",
    "my_dataframe[['date', 'time']] = my_dataframe.apply(calc_date_and_time, axis=1, result_type='expand')\n",
    "my_dataframe"
   ]
  },
  {
   "cell_type": "code",
   "execution_count": 28,
   "metadata": {},
   "outputs": [
    {
     "name": "stdout",
     "output_type": "stream",
     "text": [
      "<class 'pandas.core.frame.DataFrame'>\n",
      "RangeIndex: 5 entries, 0 to 4\n",
      "Data columns (total 8 columns):\n",
      "year      5 non-null int64\n",
      "month     5 non-null int64\n",
      "day       5 non-null int64\n",
      "hour      5 non-null int64\n",
      "minute    5 non-null int64\n",
      "second    5 non-null int64\n",
      "date      5 non-null object\n",
      "time      5 non-null object\n",
      "dtypes: int64(6), object(2)\n",
      "memory usage: 448.0+ bytes\n"
     ]
    }
   ],
   "source": [
    "my_dataframe.info()"
   ]
  },
  {
   "cell_type": "code",
   "execution_count": 32,
   "metadata": {},
   "outputs": [],
   "source": [
    "def calc_datetime(series):\n",
    "    return pd.datetime.combine(series.date, series.time)\n",
    "\n",
    "\n",
    "# creates a datetime column from the date and time column\n",
    "my_dataframe['datetime'] = my_dataframe.apply(calc_datetime, axis=1)"
   ]
  },
  {
   "cell_type": "code",
   "execution_count": 33,
   "metadata": {},
   "outputs": [],
   "source": [
    "# creates a timedelta difference between each of the rows!\n",
    "my_dataframe['time_diff'] = my_dataframe.apply(calc_datetime, axis=1).diff()"
   ]
  },
  {
   "cell_type": "code",
   "execution_count": 34,
   "metadata": {},
   "outputs": [
    {
     "data": {
      "text/html": [
       "<div>\n",
       "<style scoped>\n",
       "    .dataframe tbody tr th:only-of-type {\n",
       "        vertical-align: middle;\n",
       "    }\n",
       "\n",
       "    .dataframe tbody tr th {\n",
       "        vertical-align: top;\n",
       "    }\n",
       "\n",
       "    .dataframe thead th {\n",
       "        text-align: right;\n",
       "    }\n",
       "</style>\n",
       "<table border=\"1\" class=\"dataframe\">\n",
       "  <thead>\n",
       "    <tr style=\"text-align: right;\">\n",
       "      <th></th>\n",
       "      <th>year</th>\n",
       "      <th>month</th>\n",
       "      <th>day</th>\n",
       "      <th>hour</th>\n",
       "      <th>minute</th>\n",
       "      <th>second</th>\n",
       "      <th>date</th>\n",
       "      <th>time</th>\n",
       "      <th>datetime</th>\n",
       "      <th>time_diff</th>\n",
       "    </tr>\n",
       "  </thead>\n",
       "  <tbody>\n",
       "    <tr>\n",
       "      <td>0</td>\n",
       "      <td>2010</td>\n",
       "      <td>1</td>\n",
       "      <td>5</td>\n",
       "      <td>1</td>\n",
       "      <td>8</td>\n",
       "      <td>6</td>\n",
       "      <td>2010-01-05</td>\n",
       "      <td>01:08:06</td>\n",
       "      <td>2010-01-05 01:08:06</td>\n",
       "      <td>NaT</td>\n",
       "    </tr>\n",
       "    <tr>\n",
       "      <td>1</td>\n",
       "      <td>2012</td>\n",
       "      <td>2</td>\n",
       "      <td>10</td>\n",
       "      <td>11</td>\n",
       "      <td>16</td>\n",
       "      <td>2</td>\n",
       "      <td>2012-02-10</td>\n",
       "      <td>11:16:02</td>\n",
       "      <td>2012-02-10 11:16:02</td>\n",
       "      <td>766 days 10:07:56</td>\n",
       "    </tr>\n",
       "    <tr>\n",
       "      <td>2</td>\n",
       "      <td>1990</td>\n",
       "      <td>3</td>\n",
       "      <td>15</td>\n",
       "      <td>13</td>\n",
       "      <td>24</td>\n",
       "      <td>10</td>\n",
       "      <td>1990-03-15</td>\n",
       "      <td>13:24:10</td>\n",
       "      <td>1990-03-15 13:24:10</td>\n",
       "      <td>-8002 days +02:08:08</td>\n",
       "    </tr>\n",
       "    <tr>\n",
       "      <td>3</td>\n",
       "      <td>1978</td>\n",
       "      <td>4</td>\n",
       "      <td>10</td>\n",
       "      <td>19</td>\n",
       "      <td>32</td>\n",
       "      <td>54</td>\n",
       "      <td>1978-04-10</td>\n",
       "      <td>19:32:54</td>\n",
       "      <td>1978-04-10 19:32:54</td>\n",
       "      <td>-4357 days +06:08:44</td>\n",
       "    </tr>\n",
       "    <tr>\n",
       "      <td>4</td>\n",
       "      <td>2001</td>\n",
       "      <td>5</td>\n",
       "      <td>25</td>\n",
       "      <td>23</td>\n",
       "      <td>40</td>\n",
       "      <td>24</td>\n",
       "      <td>2001-05-25</td>\n",
       "      <td>23:40:24</td>\n",
       "      <td>2001-05-25 23:40:24</td>\n",
       "      <td>8446 days 04:07:30</td>\n",
       "    </tr>\n",
       "  </tbody>\n",
       "</table>\n",
       "</div>"
      ],
      "text/plain": [
       "   year  month  day  hour  minute  second        date      time  \\\n",
       "0  2010      1    5     1       8       6  2010-01-05  01:08:06   \n",
       "1  2012      2   10    11      16       2  2012-02-10  11:16:02   \n",
       "2  1990      3   15    13      24      10  1990-03-15  13:24:10   \n",
       "3  1978      4   10    19      32      54  1978-04-10  19:32:54   \n",
       "4  2001      5   25    23      40      24  2001-05-25  23:40:24   \n",
       "\n",
       "             datetime            time_diff  \n",
       "0 2010-01-05 01:08:06                  NaT  \n",
       "1 2012-02-10 11:16:02    766 days 10:07:56  \n",
       "2 1990-03-15 13:24:10 -8002 days +02:08:08  \n",
       "3 1978-04-10 19:32:54 -4357 days +06:08:44  \n",
       "4 2001-05-25 23:40:24   8446 days 04:07:30  "
      ]
     },
     "execution_count": 34,
     "metadata": {},
     "output_type": "execute_result"
    }
   ],
   "source": [
    "my_dataframe"
   ]
  },
  {
   "cell_type": "code",
   "execution_count": 35,
   "metadata": {},
   "outputs": [
    {
     "name": "stdout",
     "output_type": "stream",
     "text": [
      "<class 'pandas.core.frame.DataFrame'>\n",
      "RangeIndex: 5 entries, 0 to 4\n",
      "Data columns (total 10 columns):\n",
      "year         5 non-null int64\n",
      "month        5 non-null int64\n",
      "day          5 non-null int64\n",
      "hour         5 non-null int64\n",
      "minute       5 non-null int64\n",
      "second       5 non-null int64\n",
      "date         5 non-null object\n",
      "time         5 non-null object\n",
      "datetime     5 non-null datetime64[ns]\n",
      "time_diff    4 non-null timedelta64[ns]\n",
      "dtypes: datetime64[ns](1), int64(6), object(2), timedelta64[ns](1)\n",
      "memory usage: 528.0+ bytes\n"
     ]
    }
   ],
   "source": [
    "my_dataframe.info()"
   ]
  },
  {
   "cell_type": "code",
   "execution_count": null,
   "metadata": {},
   "outputs": [],
   "source": []
  }
 ],
 "metadata": {
  "kernelspec": {
   "display_name": "Python 3",
   "language": "python",
   "name": "python3"
  },
  "language_info": {
   "codemirror_mode": {
    "name": "ipython",
    "version": 3
   },
   "file_extension": ".py",
   "mimetype": "text/x-python",
   "name": "python",
   "nbconvert_exporter": "python",
   "pygments_lexer": "ipython3",
   "version": "3.7.3"
  }
 },
 "nbformat": 4,
 "nbformat_minor": 2
}
