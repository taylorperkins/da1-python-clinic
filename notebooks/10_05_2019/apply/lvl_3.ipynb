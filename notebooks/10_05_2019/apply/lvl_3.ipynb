{
 "cells": [
  {
   "cell_type": "code",
   "execution_count": null,
   "metadata": {},
   "outputs": [],
   "source": [
    "from datetime import date, time, datetime, timedelta\n",
    "\n",
    "import pandas as pd"
   ]
  },
  {
   "cell_type": "code",
   "execution_count": null,
   "metadata": {},
   "outputs": [],
   "source": [
    "my_dataframe = pd.DataFrame(\n",
    "    {\n",
    "        'year': [2010, 2012, 1990, 1978, 2001],\n",
    "        'month': [1, 2, 3, 4, 5],\n",
    "        'day': [5, 10, 15, 10, 25],\n",
    "        'hour': [1, 11, 13, 19, 23],\n",
    "        'minute': [8, 16, 24, 32, 40],\n",
    "        'second': [6, 2, 10, 54, 24]\n",
    "    }\n",
    ")"
   ]
  },
  {
   "cell_type": "code",
   "execution_count": null,
   "metadata": {},
   "outputs": [],
   "source": [
    "def calc_time(series):\n",
    "    return time(series.hour, series.minute, series.second)\n",
    "\n",
    "\n",
    "# this example takes 3 columns to use in a function! Returns a series\n",
    "my_dataframe[['hour', 'minute', 'second']].apply(calc_time, axis=1)"
   ]
  },
  {
   "cell_type": "code",
   "execution_count": null,
   "metadata": {},
   "outputs": [],
   "source": [
    "def calc_date(series):\n",
    "    return date(series.year, series.month, series.day)\n",
    "\n",
    "\n",
    "# same as previous example\n",
    "my_dataframe[['year', 'month', 'day']].apply(calc_date, axis=1)"
   ]
  },
  {
   "cell_type": "code",
   "execution_count": null,
   "metadata": {},
   "outputs": [],
   "source": [
    "def calc_date_and_time(series):\n",
    "    return calc_date(series), calc_time(series)\n",
    "\n",
    "\n",
    "# this one returns 2 values!\n",
    "my_dataframe.apply(calc_date_and_time, axis=1)"
   ]
  },
  {
   "cell_type": "code",
   "execution_count": null,
   "metadata": {},
   "outputs": [],
   "source": [
    "# takes the 2 return values from the calc_date_and_time function, \n",
    "# and creates 2 brand new columns on the original dataframe\n",
    "my_dataframe[['date', 'time']] = my_dataframe.apply(calc_date_and_time, axis=1, result_type='expand')\n",
    "my_dataframe"
   ]
  },
  {
   "cell_type": "code",
   "execution_count": null,
   "metadata": {},
   "outputs": [],
   "source": [
    "my_dataframe.info()"
   ]
  },
  {
   "cell_type": "code",
   "execution_count": null,
   "metadata": {},
   "outputs": [],
   "source": [
    "def calc_datetime(series):\n",
    "    return pd.datetime.combine(series.date, series.time)\n",
    "\n",
    "\n",
    "# creates a datetime column from the date and time column\n",
    "my_dataframe['datetime'] = my_dataframe.apply(calc_datetime, axis=1)"
   ]
  },
  {
   "cell_type": "code",
   "execution_count": null,
   "metadata": {},
   "outputs": [],
   "source": [
    "# creates a timedelta difference between each of the rows!\n",
    "my_dataframe['time_diff'] = my_dataframe.apply(calc_datetime, axis=1).diff()"
   ]
  },
  {
   "cell_type": "code",
   "execution_count": null,
   "metadata": {},
   "outputs": [],
   "source": [
    "my_dataframe"
   ]
  },
  {
   "cell_type": "code",
   "execution_count": null,
   "metadata": {},
   "outputs": [],
   "source": [
    "my_dataframe.info()"
   ]
  },
  {
   "cell_type": "code",
   "execution_count": null,
   "metadata": {},
   "outputs": [],
   "source": []
  }
 ],
 "metadata": {
  "kernelspec": {
   "display_name": "Python 3",
   "language": "python",
   "name": "python3"
  },
  "language_info": {
   "codemirror_mode": {
    "name": "ipython",
    "version": 3
   },
   "file_extension": ".py",
   "mimetype": "text/x-python",
   "name": "python",
   "nbconvert_exporter": "python",
   "pygments_lexer": "ipython3",
   "version": "3.7.3"
  }
 },
 "nbformat": 4,
 "nbformat_minor": 2
}
