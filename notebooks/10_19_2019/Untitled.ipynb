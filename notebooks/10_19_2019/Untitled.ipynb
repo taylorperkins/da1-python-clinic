{
 "cells": [
  {
   "cell_type": "code",
   "execution_count": 1,
   "metadata": {},
   "outputs": [
    {
     "name": "stdout",
     "output_type": "stream",
     "text": [
      "1990_female.csv 1994_male.csv   2000_female.csv 2004_male.csv   Untitled.ipynb\r\n",
      "1990_male.csv   1996_female.csv 2000_male.csv   2006_female.csv\r\n",
      "1992_female.csv 1996_male.csv   2002_female.csv 2006_male.csv\r\n",
      "1992_male.csv   1998_female.csv 2002_male.csv   2008_female.csv\r\n",
      "1994_female.csv 1998_male.csv   2004_female.csv 2008_male.csv\r\n"
     ]
    }
   ],
   "source": [
    "!ls"
   ]
  },
  {
   "cell_type": "markdown",
   "metadata": {},
   "source": [
    "## When to use for-loops\n",
    "How can you combine all of the csv data in this folder?\n",
    "Let's _glob_ em."
   ]
  },
  {
   "cell_type": "code",
   "execution_count": 7,
   "metadata": {},
   "outputs": [
    {
     "data": {
      "text/plain": [
       "['1998_male.csv',\n",
       " '1992_male.csv',\n",
       " '1996_female.csv',\n",
       " '2002_female.csv',\n",
       " '2004_male.csv']"
      ]
     },
     "execution_count": 7,
     "metadata": {},
     "output_type": "execute_result"
    }
   ],
   "source": [
    "import glob\n",
    "\n",
    "\n",
    "# print first 5 files that are csv files\n",
    "glob.glob('*.csv')[:5]"
   ]
  },
  {
   "cell_type": "code",
   "execution_count": 23,
   "metadata": {},
   "outputs": [
    {
     "data": {
      "text/plain": [
       "{'year': '1998', 'gender': 'male'}"
      ]
     },
     "execution_count": 23,
     "metadata": {},
     "output_type": "execute_result"
    }
   ],
   "source": [
    "# Regular Expressions..\n",
    "import re\n",
    "\n",
    "# compile your pattern. VERBOSE let's you add comments in the expression!\n",
    "pattern = re.compile(\"\"\"\n",
    "\n",
    "  (?P<year>\\d+)_         # first n digits, stop at '_'\n",
    "  (?P<gender>.*?)\\.      # all characters, stop at '.'\n",
    "  \n",
    "\"\"\", re.VERBOSE)\n",
    "\n",
    "# test the pattern on one string..\n",
    "m = pattern.search('1998_male.csv')\n",
    "m.groupdict()"
   ]
  },
  {
   "cell_type": "code",
   "execution_count": 18,
   "metadata": {},
   "outputs": [],
   "source": [
    "from collections import defaultdict\n",
    "\n",
    "\n",
    "# set up initial data collection.\n",
    "values = defaultdict(list)\n",
    "\n",
    "# iterate over all csv files\n",
    "for filename in glob.glob('*.csv'):\n",
    "    \n",
    "    # get the year and gender from the file name\n",
    "    m = pattern.search(filename)\n",
    "    year, gender = m.groups()\n",
    "    \n",
    "    # open the file\n",
    "    with open(filename) as f:\n",
    "        for row in f.read().splitlines():\n",
    "            \n",
    "            # get the rank and name from the row\n",
    "            rank, name = row.split(',')\n",
    "            \n",
    "            # add all values to the data collection\n",
    "            values['year'].append(year)\n",
    "            values['rank'].append(rank)\n",
    "            values['gender'].append(gender)\n",
    "            values['name'].append(name)"
   ]
  },
  {
   "cell_type": "code",
   "execution_count": 21,
   "metadata": {},
   "outputs": [
    {
     "data": {
      "text/html": [
       "<div>\n",
       "<style scoped>\n",
       "    .dataframe tbody tr th:only-of-type {\n",
       "        vertical-align: middle;\n",
       "    }\n",
       "\n",
       "    .dataframe tbody tr th {\n",
       "        vertical-align: top;\n",
       "    }\n",
       "\n",
       "    .dataframe thead th {\n",
       "        text-align: right;\n",
       "    }\n",
       "</style>\n",
       "<table border=\"1\" class=\"dataframe\">\n",
       "  <thead>\n",
       "    <tr style=\"text-align: right;\">\n",
       "      <th></th>\n",
       "      <th>year</th>\n",
       "      <th>rank</th>\n",
       "      <th>gender</th>\n",
       "      <th>name</th>\n",
       "    </tr>\n",
       "  </thead>\n",
       "  <tbody>\n",
       "    <tr>\n",
       "      <td>0</td>\n",
       "      <td>1998</td>\n",
       "      <td>1</td>\n",
       "      <td>male</td>\n",
       "      <td>Michael</td>\n",
       "    </tr>\n",
       "    <tr>\n",
       "      <td>1</td>\n",
       "      <td>1998</td>\n",
       "      <td>2</td>\n",
       "      <td>male</td>\n",
       "      <td>Jacob</td>\n",
       "    </tr>\n",
       "    <tr>\n",
       "      <td>2</td>\n",
       "      <td>1998</td>\n",
       "      <td>3</td>\n",
       "      <td>male</td>\n",
       "      <td>Matthew</td>\n",
       "    </tr>\n",
       "    <tr>\n",
       "      <td>3</td>\n",
       "      <td>1998</td>\n",
       "      <td>4</td>\n",
       "      <td>male</td>\n",
       "      <td>Joshua</td>\n",
       "    </tr>\n",
       "    <tr>\n",
       "      <td>4</td>\n",
       "      <td>1998</td>\n",
       "      <td>5</td>\n",
       "      <td>male</td>\n",
       "      <td>Christopher</td>\n",
       "    </tr>\n",
       "    <tr>\n",
       "      <td>...</td>\n",
       "      <td>...</td>\n",
       "      <td>...</td>\n",
       "      <td>...</td>\n",
       "      <td>...</td>\n",
       "    </tr>\n",
       "    <tr>\n",
       "      <td>19995</td>\n",
       "      <td>2004</td>\n",
       "      <td>996</td>\n",
       "      <td>female</td>\n",
       "      <td>Darlene</td>\n",
       "    </tr>\n",
       "    <tr>\n",
       "      <td>19996</td>\n",
       "      <td>2004</td>\n",
       "      <td>997</td>\n",
       "      <td>female</td>\n",
       "      <td>Estefania</td>\n",
       "    </tr>\n",
       "    <tr>\n",
       "      <td>19997</td>\n",
       "      <td>2004</td>\n",
       "      <td>998</td>\n",
       "      <td>female</td>\n",
       "      <td>Heidy</td>\n",
       "    </tr>\n",
       "    <tr>\n",
       "      <td>19998</td>\n",
       "      <td>2004</td>\n",
       "      <td>999</td>\n",
       "      <td>female</td>\n",
       "      <td>Miya</td>\n",
       "    </tr>\n",
       "    <tr>\n",
       "      <td>19999</td>\n",
       "      <td>2004</td>\n",
       "      <td>1000</td>\n",
       "      <td>female</td>\n",
       "      <td>Alexandrea</td>\n",
       "    </tr>\n",
       "  </tbody>\n",
       "</table>\n",
       "<p>20000 rows × 4 columns</p>\n",
       "</div>"
      ],
      "text/plain": [
       "       year  rank  gender         name\n",
       "0      1998     1    male      Michael\n",
       "1      1998     2    male        Jacob\n",
       "2      1998     3    male      Matthew\n",
       "3      1998     4    male       Joshua\n",
       "4      1998     5    male  Christopher\n",
       "...     ...   ...     ...          ...\n",
       "19995  2004   996  female      Darlene\n",
       "19996  2004   997  female    Estefania\n",
       "19997  2004   998  female        Heidy\n",
       "19998  2004   999  female         Miya\n",
       "19999  2004  1000  female   Alexandrea\n",
       "\n",
       "[20000 rows x 4 columns]"
      ]
     },
     "execution_count": 21,
     "metadata": {},
     "output_type": "execute_result"
    }
   ],
   "source": [
    "import pandas as pd\n",
    "\n",
    "# bata-bing, bata-boom\n",
    "babynames = pd.DataFrame(data=values)\n",
    "babynames"
   ]
  },
  {
   "cell_type": "code",
   "execution_count": 45,
   "metadata": {},
   "outputs": [
    {
     "data": {
      "image/png": "[encoded data removed]",
      "text/plain": [
       "<Figure size 1440x864 with 2 Axes>"
      ]
     },
     "metadata": {
      "needs_background": "light"
     },
     "output_type": "display_data"
    }
   ],
   "source": [
    "from collections import Counter\n",
    "\n",
    "import matplotlib.pyplot as plt\n",
    "%matplotlib inline\n",
    "\n",
    "# set up initial figure definitions\n",
    "f, axes = plt.subplots(2, 1, figsize=(20, 12), sharex=True)\n",
    "\n",
    "# keep track of counts so I can reference them later\n",
    "max_count = []\n",
    "\n",
    "# iterate over genders\n",
    "for ind, (gender, df) in enumerate(babynames.groupby('gender')):\n",
    "    \n",
    "    # lowercase\n",
    "    uppercase_first_char = df['name'].str.upper().str[0]\n",
    "    char_counts = Counter(uppercase_first_char)\n",
    "    \n",
    "    max_count.append(max(char_counts.values()))\n",
    "    \n",
    "    sorted_chars = sorted(char_counts)\n",
    "    \n",
    "    axes[ind].grid()\n",
    "        \n",
    "    axes[ind].set_title(gender.capitalize(), loc='left', fontdict={'fontsize': 18, 'fontweight': 'bold'})\n",
    "    \n",
    "    axes[ind].bar(range(len(sorted_chars)), [char_counts[char] for char in sorted_chars], align='center')\n",
    "    axes[ind].set_xticks(range(len(sorted_chars)))\n",
    "    axes[ind].set_xticklabels(\n",
    "        sorted_chars, \n",
    "        fontdict={'fontsize': 16, 'fontweight': 'bold'}\n",
    "    )\n",
    "    \n",
    "for ax in axes:\n",
    "    ax.set_ylim(0, max(max_count))\n",
    "    \n",
    "plt.tight_layout()\n",
    "plt.show();"
   ]
  },
  {
   "cell_type": "code",
   "execution_count": null,
   "metadata": {},
   "outputs": [],
   "source": []
  }
 ],
 "metadata": {
  "kernelspec": {
   "display_name": "Python 3",
   "language": "python",
   "name": "python3"
  },
  "language_info": {
   "codemirror_mode": {
    "name": "ipython",
    "version": 3
   },
   "file_extension": ".py",
   "mimetype": "text/x-python",
   "name": "python",
   "nbconvert_exporter": "python",
   "pygments_lexer": "ipython3",
   "version": "3.7.3"
  }
 },
 "nbformat": 4,
 "nbformat_minor": 2
}
