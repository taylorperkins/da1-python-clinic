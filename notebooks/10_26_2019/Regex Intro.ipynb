{
 "cells": [
  {
   "cell_type": "markdown",
   "metadata": {},
   "source": [
    "# Regex Intro\n",
    "\n",
    "## Regex?\n",
    "From wiki..\n",
    "```\n",
    "A regular expression, regex or regexp is a sequence of characters that define a search pattern. Usually such patterns are used by string searching algorithms for \"find\" or \"find and replace\" operations on strings, or for input validation.\n",
    "```\n",
    "\n",
    "Essentially, it's a way to define patterns in text data!\n",
    "Let's see an example.\n",
    "\n",
    "<hr>"
   ]
  },
  {
   "cell_type": "code",
   "execution_count": 7,
   "metadata": {},
   "outputs": [],
   "source": [
    "import re\n",
    "\n",
    "\n",
    "sentences = [\n",
    "    \"Sentence about cats.\", \n",
    "    \"Sentence about dogs.\", \n",
    "    \"Sentence about rabbits.\"\n",
    "]"
   ]
  },
  {
   "cell_type": "markdown",
   "metadata": {},
   "source": [
    "Now, let's imagine that we wanted to know which sentences talked about either `cats` or `dogs`.\n",
    "How could we do that?\n",
    "\n",
    "Currently, our sentences are structured like this:\n",
    "```\n",
    "Sentence about <animal>.\n",
    "```\n",
    "\n",
    "So, we could define a pattern that matched this structure!"
   ]
  },
  {
   "cell_type": "code",
   "execution_count": 14,
   "metadata": {},
   "outputs": [
    {
     "name": "stdout",
     "output_type": "stream",
     "text": [
      "cats\n",
      "dogs\n",
      "rabbits\n"
     ]
    }
   ],
   "source": [
    "pattern = re.compile(r\"Sentence about (\\w+)\\.\")\n",
    "\n",
    "for sentence in sentences:\n",
    "    \n",
    "    # try to find a match..\n",
    "    match = pattern.match(sentence)\n",
    "    \n",
    "    # if you found a match, print it!\n",
    "    if match:\n",
    "        print(match.group(1))"
   ]
  },
  {
   "cell_type": "markdown",
   "metadata": {},
   "source": [
    "Ok.. But now we have rabbits!"
   ]
  },
  {
   "cell_type": "code",
   "execution_count": 13,
   "metadata": {},
   "outputs": [
    {
     "name": "stdout",
     "output_type": "stream",
     "text": [
      "cat\n",
      "dog\n"
     ]
    }
   ],
   "source": [
    "pattern = re.compile(r\"Sentence about (cat|dog)\")\n",
    "\n",
    "for sentence in sentences:\n",
    "    \n",
    "    # try to find a match..\n",
    "    match = pattern.match(sentence)\n",
    "    \n",
    "    # if you found a match, print it!\n",
    "    if match:\n",
    "        print(match.group(1))"
   ]
  },
  {
   "cell_type": "markdown",
   "metadata": {},
   "source": [
    "### What's going on?\n",
    "We defined a could patterns to flag the sentences that matched our criteria, and also returned the matches!\n",
    "\n",
    "Starting off.. \n",
    "```\n",
    "Sentence about ...\n",
    "```\n",
    "\n",
    "This part is normal. \n",
    "Looks like regular text.\n",
    "The next parts are the tricky ones.\n",
    "\n",
    "* `(\\w+)\\.` - Matches at least one _word_ character (`(\\w+)`), then specifies a period (`\\.`)\n",
    "* `(cat|dog)` - matches the word `cat` _or_ `dog`"
   ]
  },
  {
   "cell_type": "markdown",
   "metadata": {},
   "source": [
    "<hr>\n",
    "\n",
    "## Regex Special Characters\n",
    "Regex is kind of a mini-programming language.\n",
    "There are normal characters, metacharacters, and special characters.\n",
    "\n",
    "Most common special characters include:\n",
    "\n",
    "* `.` - (Dot.) Matches any character except a newline.\n",
    "* `^` - (Caret.) Matches the start of the string\n",
    "* `$` - Matches the end of the string or just before the newline at the end of the string\n",
    "* `*` - Causes the resulting RE to match 0 or more repetitions of the preceding RE, as many repetitions as are possible. ab* will match ‘a’, ‘ab’, or ‘a’ followed by any number of ‘b’s.\n",
    "* `+` - Causes the resulting RE to match 1 or more repetitions of the preceding RE. ab+ will match ‘a’ followed by any non-zero number of ‘b’s; it will not match just ‘a’.\n",
    "* `?` - Causes the resulting RE to match 0 or 1 repetitions of the preceding RE. ab? will match either ‘a’ or ‘ab’.\n",
    "* `\\` - Either escapes special characters (permitting you to match characters like '*', '?', and so forth), or signals a special sequence\n",
    "* `[]` - Used to indicate a set of characters.\n",
    "* `|` - A|B, where A and B can be arbitrary REs, creates a regular expression that will match either A or B.\n",
    "* `(...)` - Matches whatever regular expression is inside the parentheses, and indicates the start and end of a group"
   ]
  },
  {
   "cell_type": "markdown",
   "metadata": {},
   "source": [
    "## Regex Meta Characters\n",
    "These characters represent character _classes_.\n",
    "\n",
    "Most common:\n",
    "\n",
    "* `\\d` -  Matches any Unicode decimal digit (that is, any character in Unicode character category [Nd]). This includes [0-9], and also many other digit characters.\n",
    "* `\\D` - Matches any character which is not a decimal digit. This is the opposite of \\d.\n",
    "* `\\s` - Matches Unicode whitespace characters (which includes [ \\t\\n\\r\\f\\v]\n",
    "* `\\S` - Matches any character which is not a whitespace character. This is the opposite of \\s.\n",
    "* `\\w` - Matches Unicode word characters; this includes most characters that can be part of a word in any language, as well as numbers and the underscore.\n",
    "* `\\W` - Matches any character which is not a word character. This is the opposite of \\w"
   ]
  },
  {
   "cell_type": "markdown",
   "metadata": {},
   "source": [
    "## Regex - Python\n",
    "Python has a package for handling regular expressions and working with them. \n",
    "This is the [re](https://docs.python.org/3.7/library/re.html) package.\n",
    "It's built in!!\n",
    "\n",
    "Generally you would..\n",
    "\n",
    "1. Create a pattern and [compile](https://docs.python.org/3.7/library/re.html#re.compile) it\n",
    "2. Try to either:\n",
    "    * [match](https://docs.python.org/3.7/library/re.html#re.match) the text verbatim\n",
    "    * [findall](https://docs.python.org/3.7/library/re.html#re.findall) instances of your match within a string\n",
    "    * [search](https://docs.python.org/3.7/library/re.html#re.Pattern.search) the text for the first match (anywhere in the string)"
   ]
  },
  {
   "cell_type": "code",
   "execution_count": 31,
   "metadata": {},
   "outputs": [],
   "source": [
    "pattern = re.compile('foo')\n",
    "\n",
    "foo, not_foo = 'foo foo', 'not foo foo'"
   ]
  },
  {
   "cell_type": "code",
   "execution_count": 32,
   "metadata": {},
   "outputs": [
    {
     "name": "stdout",
     "output_type": "stream",
     "text": [
      "<re.Match object; span=(0, 3), match='foo'>\n"
     ]
    }
   ],
   "source": [
    "print(pattern.match(foo))"
   ]
  },
  {
   "cell_type": "code",
   "execution_count": 33,
   "metadata": {},
   "outputs": [
    {
     "name": "stdout",
     "output_type": "stream",
     "text": [
      "None\n"
     ]
    }
   ],
   "source": [
    "print(pattern.match(not_foo))"
   ]
  },
  {
   "cell_type": "code",
   "execution_count": 34,
   "metadata": {},
   "outputs": [
    {
     "name": "stdout",
     "output_type": "stream",
     "text": [
      "<re.Match object; span=(0, 3), match='foo'>\n"
     ]
    }
   ],
   "source": [
    "print(pattern.search(foo))"
   ]
  },
  {
   "cell_type": "code",
   "execution_count": 35,
   "metadata": {},
   "outputs": [
    {
     "name": "stdout",
     "output_type": "stream",
     "text": [
      "<re.Match object; span=(4, 7), match='foo'>\n"
     ]
    }
   ],
   "source": [
    "print(pattern.search(not_foo))"
   ]
  },
  {
   "cell_type": "code",
   "execution_count": 36,
   "metadata": {},
   "outputs": [
    {
     "name": "stdout",
     "output_type": "stream",
     "text": [
      "['foo', 'foo']\n"
     ]
    }
   ],
   "source": [
    "print(pattern.findall(foo))"
   ]
  },
  {
   "cell_type": "code",
   "execution_count": 37,
   "metadata": {},
   "outputs": [
    {
     "name": "stdout",
     "output_type": "stream",
     "text": [
      "['foo', 'foo']\n"
     ]
    }
   ],
   "source": [
    "print(pattern.findall(not_foo))"
   ]
  },
  {
   "cell_type": "markdown",
   "metadata": {},
   "source": [
    "<hr>\n",
    "\n",
    "## Some Examples"
   ]
  },
  {
   "cell_type": "markdown",
   "metadata": {},
   "source": [
    "**GOAL**: Does the text talk about cats??"
   ]
  },
  {
   "cell_type": "code",
   "execution_count": 47,
   "metadata": {},
   "outputs": [],
   "source": [
    "cat_sentences = [\n",
    "    \"I talk about cats!\",\n",
    "    \"I might talk about cats..\",\n",
    "    \"What sound does a cat make?\",\n",
    "    \"Meow\"\n",
    "]"
   ]
  },
  {
   "cell_type": "markdown",
   "metadata": {},
   "source": [
    "We can determine that a sentence talks about cats _if_ it contains the word `cat`."
   ]
  },
  {
   "cell_type": "code",
   "execution_count": 48,
   "metadata": {},
   "outputs": [
    {
     "name": "stdout",
     "output_type": "stream",
     "text": [
      "I talk about cats!\n",
      "I might talk about cats..\n",
      "What sound does a cat make?\n"
     ]
    }
   ],
   "source": [
    "pattern = re.compile('cat')\n",
    "\n",
    "for s in cat_sentences:\n",
    "    if pattern.search(s):\n",
    "        print(s)"
   ]
  },
  {
   "cell_type": "markdown",
   "metadata": {},
   "source": [
    "<hr>"
   ]
  },
  {
   "cell_type": "markdown",
   "metadata": {},
   "source": [
    "**GOAL**: Does the text contain a number?"
   ]
  },
  {
   "cell_type": "code",
   "execution_count": 43,
   "metadata": {},
   "outputs": [],
   "source": [
    "number_sentences = [\n",
    "    \"1234567\",\n",
    "    \"one two three four five six seven\",\n",
    "    \"Cat!\",\n",
    "    \"Meow\"\n",
    "]"
   ]
  },
  {
   "cell_type": "code",
   "execution_count": 44,
   "metadata": {},
   "outputs": [
    {
     "name": "stdout",
     "output_type": "stream",
     "text": [
      "1234567\n"
     ]
    }
   ],
   "source": [
    "pattern = re.compile('\\d')  # a number!\n",
    "\n",
    "for s in number_sentences:\n",
    "    if pattern.search(s):\n",
    "        print(s)"
   ]
  },
  {
   "cell_type": "markdown",
   "metadata": {},
   "source": [
    "<hr>\n",
    "\n",
    "**GOAL**: Does the number talk about either a cat or a number?"
   ]
  },
  {
   "cell_type": "code",
   "execution_count": 50,
   "metadata": {},
   "outputs": [
    {
     "name": "stdout",
     "output_type": "stream",
     "text": [
      "I talk about cats!\n",
      "I might talk about cats..\n",
      "What sound does a cat make?\n",
      "1234567\n"
     ]
    }
   ],
   "source": [
    "pattern = re.compile(r'cat|\\d')  # cat or a digit\n",
    "\n",
    "for s in cat_sentences + number_sentences:\n",
    "    if pattern.search(s):\n",
    "        print(s)"
   ]
  },
  {
   "cell_type": "markdown",
   "metadata": {},
   "source": [
    "<hr>\n",
    "\n",
    "**GOAL**: Is the text a valid phone number???\n",
    "\n",
    "Valid phone number being in the following format: `(615)123-45678`"
   ]
  },
  {
   "cell_type": "code",
   "execution_count": 51,
   "metadata": {},
   "outputs": [],
   "source": [
    "phone_numbers = [\n",
    "    \"(615)123-4567\",  \n",
    "    \"615-123-4567\",\n",
    "    \"123-4567\",\n",
    "    \"foo\",\n",
    "    \"Cat!\",\n",
    "    \"(765)432-1516\"\n",
    "]"
   ]
  },
  {
   "cell_type": "code",
   "execution_count": 53,
   "metadata": {},
   "outputs": [
    {
     "name": "stdout",
     "output_type": "stream",
     "text": [
      "(615)123-4567\n",
      "(765)432-1516\n"
     ]
    }
   ],
   "source": [
    "pattern = re.compile(\"\\(\\d{3}\\)\\d{3}-\\d{4}\")\n",
    "\n",
    "for s in phone_numbers:\n",
    "    if pattern.match(s):\n",
    "        print(s)"
   ]
  },
  {
   "cell_type": "markdown",
   "metadata": {},
   "source": [
    "<hr>\n",
    "\n",
    "**Fun practice!!**\n",
    "* This regex [crossword]"
   ]
  }
 ],
 "metadata": {
  "kernelspec": {
   "display_name": "Python 3",
   "language": "python",
   "name": "python3"
  },
  "language_info": {
   "codemirror_mode": {
    "name": "ipython",
    "version": 3
   },
   "file_extension": ".py",
   "mimetype": "text/x-python",
   "name": "python",
   "nbconvert_exporter": "python",
   "pygments_lexer": "ipython3",
   "version": "3.7.3"
  }
 },
 "nbformat": 4,
 "nbformat_minor": 2
}
