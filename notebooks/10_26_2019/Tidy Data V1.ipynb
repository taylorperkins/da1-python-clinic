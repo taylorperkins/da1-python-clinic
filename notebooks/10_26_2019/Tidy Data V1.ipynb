{
 "cells": [
  {
   "cell_type": "markdown",
   "metadata": {},
   "source": [
    "# Tidy Data V1\n",
    "What is it??\n",
    "\n",
    "References: \n",
    "* https://vita.had.co.nz/papers/tidy-data.pdf\n",
    "* https://en.wikipedia.org/wiki/Tidy_data\n",
    "\n",
    "From Hadley Wickham in pt. 4 of the above paper: \n",
    "> Tidy data is only worthwhile if it makes analysis easier.\n",
    "\n",
    "From this, I sense another question. \n",
    "_**What are we trying to analyze?**_\n",
    "\n",
    "In the end, tidy data is contextual. \n",
    "There are some common methods to help reach a tidy dataset, but variable and observation definitions change depending on your goal.\n",
    "In general, a good process to understanding how to tidy your data may be:\n",
    "1. Determine a question\n",
    "2. Figure out which `variables` are needed to define your `observation`\n",
    "3. _Tidy your data_\n",
    "4. Answer your question\n",
    "\n",
    "**Note that tidying your data doesn't come until step 3!!**\n",
    "\n",
    "With that, let's look at an example case study on individual-level mortality data from Mexico.\n",
    "\n",
    "**The Goal**\n",
    "> Find causes of death with unusual temporal patterns within a day."
   ]
  },
  {
   "cell_type": "code",
   "execution_count": null,
   "metadata": {},
   "outputs": [],
   "source": [
    "import numpy as np\n",
    "import pandas as pd\n",
    "import matplotlib.pyplot as plt\n",
    "\n",
    "pd.set_option('display.max_rows', 500)\n",
    "pd.set_option('display.max_columns', 500)\n",
    "pd.set_option('display.width', 1000)\n",
    "\n",
    "%matplotlib inline\n",
    "\n",
    "PLOT_TITLE_FONTDICT = {\n",
    "    'fontsize': 'xx-large',\n",
    "    'fontweight' : 'heavy'}\n",
    "\n",
    "PLOT_TICK_FONTDICT = {\n",
    "    'fontsize': 'x-large',\n",
    "    'fontweight' : 'demibold'}"
   ]
  },
  {
   "cell_type": "code",
   "execution_count": null,
   "metadata": {
    "scrolled": true
   },
   "outputs": [],
   "source": [
    "deaths = pd.read_csv('./../../data/10_26_2019/deaths08.csv')\n",
    "deaths.head()"
   ]
  },
  {
   "cell_type": "code",
   "execution_count": null,
   "metadata": {},
   "outputs": [],
   "source": [
    "'Dataset has {} rows and {} columns.'.format(*deaths.shape)"
   ]
  },
  {
   "cell_type": "markdown",
   "metadata": {},
   "source": [
    "<hr>\n",
    "\n",
    "## Step 1: Asking a question\n",
    "Let's start with something pretty simple\n",
    "\n",
    "### What hour of the day do the most deaths occur?"
   ]
  },
  {
   "cell_type": "markdown",
   "metadata": {},
   "source": [
    "<hr>\n",
    "\n",
    "## Step 2: Figure out which `variables` are needed to define your `observation`\n",
    "First, what are variables and observations?\n",
    "\n",
    "### Variable\n",
    "`A variable contains all values that measure the same underlying attribute across units (groups)`\n",
    "\n",
    "### Observation\n",
    "`An observation contains all values measured on the same unit across attributes (values specific to combination of groups)`"
   ]
  },
  {
   "cell_type": "markdown",
   "metadata": {},
   "source": [
    "### What variables are in play?\n",
    "Only one here. \n",
    "* `hod`: Categorical group. Hour from 0-23\n",
    "\n",
    "### What is our observation?\n",
    "* `death count`: number of deaths per hour from the entire dataset"
   ]
  },
  {
   "cell_type": "markdown",
   "metadata": {},
   "source": [
    "## Step 3: Tidy your data\n",
    "Group by hour, and get an overall count!\n",
    "\n",
    "* Target column we're interested in\n",
    "* Effectively create a blank column to count on\n",
    "* Establish the group\n",
    "* Perform aggregation\n",
    "* Back to a normal dataframe\n",
    "* Rename column so it's easy to interpret"
   ]
  },
  {
   "cell_type": "code",
   "execution_count": null,
   "metadata": {},
   "outputs": [],
   "source": [
    "death_count_per_hour = deaths[['hod']] \\\n",
    "    .reset_index() \\\n",
    "    .groupby('hod') \\\n",
    "    .count() \\\n",
    "    .reset_index() \\\n",
    "    .rename(\n",
    "        columns={\n",
    "            'hod': 'hour', \n",
    "            'index': 'death_count'\n",
    "        }\n",
    "    )\n",
    "\n",
    "death_count_per_hour"
   ]
  },
  {
   "cell_type": "markdown",
   "metadata": {},
   "source": [
    "At this point, we have the data we need to answer our question. \n",
    "If we wanted to scrub further, we could!"
   ]
  },
  {
   "cell_type": "code",
   "execution_count": null,
   "metadata": {},
   "outputs": [],
   "source": [
    "# all hours between 0 and 23\n",
    "death_count_per_hour__valid = death_count_per_hour[death_count_per_hour['hour'].isin(range(24))]\n",
    "\n",
    "# everything that isnt in the first dataset\n",
    "death_count_per_hour__unknown = death_count_per_hour.iloc[death_count_per_hour.index.difference(death_count_per_hour__valid.index), :]"
   ]
  },
  {
   "cell_type": "code",
   "execution_count": null,
   "metadata": {},
   "outputs": [],
   "source": [
    "death_count_per_hour__valid.shape, death_count_per_hour__unknown.shape"
   ]
  },
  {
   "cell_type": "markdown",
   "metadata": {},
   "source": [
    "### Conveying the results\n",
    "Some [questions](https://blog.hubspot.com/marketing/types-of-graphs-for-data-visualization) to ask when deciding how to present your data:\n",
    "1. Do you want to compare values? _column, line, bar, pie, scatter, mekko_\n",
    "2. Do you want to show the composition of something? _pie, stacked bar, mekko, stacked column, area, waterfall_\n",
    "3. Do you want to understand the distribution of your data? _scatter, mekko, line, column, bar_\n",
    "4. Are you interested in analyzing trends in your data set? _line, dual-axis line, column_\n",
    "5. Do you want to better understand the relationship between value sets? _scatter, bubble, line_\n",
    "\n",
    "Yes to 4.\n",
    "`hour` is a time-like value where we can begin to analyze trends.\n",
    "Trends are best represented by a [line chart](https://en.wikipedia.org/wiki/Line_chart), and sometimes emphasized with a [scatterplot](https://en.wikipedia.org/wiki/Scatter_plot) overlay."
   ]
  },
  {
   "cell_type": "code",
   "execution_count": null,
   "metadata": {
    "scrolled": true
   },
   "outputs": [],
   "source": [
    "f, ax = plt.subplots(1, 1, figsize=(16, 4))\n",
    "\n",
    "# actual plotting\n",
    "ax.plot(death_count_per_hour__valid['hour'], death_count_per_hour__valid['death_count'])\n",
    "ax.scatter(death_count_per_hour__valid['hour'], death_count_per_hour__valid['death_count'])\n",
    "\n",
    "# Setting the title\n",
    "total_count, _ = deaths.shape\n",
    "unknown_death_pct = round((death_count_per_hour__unknown['death_count'].sum() / total_count) * 100, 2)\n",
    "ax.set_title(f'Death Count by Hour ({unknown_death_pct}% unknown)', loc='left', fontdict=PLOT_TITLE_FONTDICT)\n",
    "\n",
    "# setting xticks\n",
    "ax.set_xticks(death_count_per_hour__valid['hour'].unique())\n",
    "ax.set_xticklabels(list(range(1, 13)) * 2)\n",
    "\n",
    "# grid lines\n",
    "plt.grid();"
   ]
  },
  {
   "cell_type": "code",
   "execution_count": null,
   "metadata": {},
   "outputs": [],
   "source": [
    "print('Top 2 Hours')\n",
    "for hour, death_count in death_count_per_hour__valid.sort_values(by=['death_count'], ascending=False).head(2).values:\n",
    "    print(f'Hour: {hour+1:>5} | Count: {death_count}')"
   ]
  },
  {
   "cell_type": "code",
   "execution_count": null,
   "metadata": {},
   "outputs": [],
   "source": []
  }
 ],
 "metadata": {
  "kernelspec": {
   "display_name": "Python 3",
   "language": "python",
   "name": "python3"
  },
  "language_info": {
   "codemirror_mode": {
    "name": "ipython",
    "version": 3
   },
   "file_extension": ".py",
   "mimetype": "text/x-python",
   "name": "python",
   "nbconvert_exporter": "python",
   "pygments_lexer": "ipython3",
   "version": "3.7.3"
  }
 },
 "nbformat": 4,
 "nbformat_minor": 2
}
