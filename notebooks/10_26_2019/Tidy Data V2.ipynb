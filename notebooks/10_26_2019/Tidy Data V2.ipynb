{
 "cells": [
  {
   "cell_type": "markdown",
   "metadata": {},
   "source": [
    "# Tidy Data V2\n",
    "\n",
    "**What are we trying to analyze?**\n",
    "\n",
    "In the end, tidy data is contextual. There are some common methods to help reach a tidy dataset, but variable and observation definitions change depending on your goal. In general, a good process to understanding how to tidy your data may be:\n",
    "\n",
    "1. Determine a question\n",
    "2. Figure out which variables are needed to define your observation\n",
    "3. Tidy your data\n",
    "4. Answer your question"
   ]
  },
  {
   "cell_type": "code",
   "execution_count": null,
   "metadata": {},
   "outputs": [],
   "source": [
    "import numpy as np\n",
    "import pandas as pd\n",
    "import matplotlib.pyplot as plt\n",
    "\n",
    "import warnings\n",
    "warnings.simplefilter(action='ignore', category=UserWarning)\n",
    "\n",
    "pd.set_option('display.max_rows', 500)\n",
    "pd.set_option('display.max_columns', 500)\n",
    "pd.set_option('display.width', 1000)\n",
    "\n",
    "%matplotlib inline\n",
    "\n",
    "PLOT_TITLE_FONTDICT = {\n",
    "    'fontsize': 'xx-large',\n",
    "    'fontweight' : 'heavy'}\n",
    "\n",
    "PLOT_AXIS_LABEL_FONTDICT = {\n",
    "    'fontsize': 'x-large',\n",
    "    'fontweight' : 'demibold'}\n",
    "\n",
    "PLOT_TICK_FONTDICT = {\n",
    "    'fontsize': 'large',\n",
    "    'fontweight' : 'roman'}"
   ]
  },
  {
   "cell_type": "code",
   "execution_count": null,
   "metadata": {},
   "outputs": [],
   "source": [
    "def create_dictionary_md_by_category(category):\n",
    "    data_dictionary = pd.read_csv('https://extranet.who.int/tme/generateCSV.asp?ds=dictionary')\n",
    "    data_dictionary = data_dictionary[data_dictionary['dataset'] == category] \\\n",
    "        .drop(columns=['dataset', 'code_list'])\n",
    "\n",
    "    s = '## Data Dict\\n\\n'\n",
    "\n",
    "    for var, definition in data_dictionary.values:\n",
    "        s += f'### **{var}**\\n{definition}\\n\\n'\n",
    "        \n",
    "    with open('./data_definition.md', 'w') as f:\n",
    "        f.write(s)"
   ]
  },
  {
   "cell_type": "code",
   "execution_count": null,
   "metadata": {},
   "outputs": [],
   "source": [
    "create_dictionary_md_by_category('Notification')"
   ]
  },
  {
   "cell_type": "code",
   "execution_count": null,
   "metadata": {},
   "outputs": [],
   "source": [
    "tb_case_notifications = pd.read_csv('https://extranet.who.int/tme/generateCSV.asp?ds=notifications')\n",
    "tb_case_notifications.head()"
   ]
  },
  {
   "cell_type": "code",
   "execution_count": null,
   "metadata": {},
   "outputs": [],
   "source": [
    "'TB case data has {} rows and {} columns'.format(*tb_case_notifications.shape)"
   ]
  },
  {
   "cell_type": "markdown",
   "metadata": {},
   "source": [
    "## The Data\n",
    "This dataset comes from the World Health Organisation, and records the counts of confirmed tuberculosis cases by country, year, and demographic group. \n",
    "The demographic groups are broken down by sex (m, f) and age (0–14, 15–25, 25–34, 35–44, 45–54, 55–64, unknown).\n",
    "\n",
    "> “Tuberculosis kills five thousand people every day. The social and economic impacts are devastating, including poverty, stigma and discrimination. While the world has committed to ending the TB epidemic by 2030, actions and investments don’t match the political rhetoric. We need a dynamic, global, multisectoral approach. The good news is that we finally have two great opportunities to move forward: the first WHO Global Ministerial Conference to End TB in Moscow in 2017, followed by the first UN General Assembly High-Level Meeting on TB in 2018. These will build momentum, get different sectors engaged, and accelerate our efforts to make TB history.\"\n",
    "\n",
    "> Dr Tedros Adhanom Ghebreyesus, WHO Director-General"
   ]
  },
  {
   "cell_type": "markdown",
   "metadata": {},
   "source": [
    "<hr>\n",
    "\n",
    "## Step 1: Determine a question\n",
    "`What gender and age bracket has the most common occurence of tuberculosis?`"
   ]
  },
  {
   "cell_type": "markdown",
   "metadata": {},
   "source": [
    "<hr>\n",
    "\n",
    "## Step 2: Figure out which `variables` are needed to define your `observation`\n",
    "Ideally, you would want a data collection that would look like: \n",
    "\n",
    "| Gender (V) | Age Bracket (V) | Case Count (O) |\n",
    "| - | - | - |\n",
    "| M | 0-14 | 2 |\n",
    "| F | 0-14 | 2 |\n",
    "| .. | .. | .. |\n",
    "\n",
    "* `Gender` - Categorical variable, either M or F. Excluding all unknowns\n",
    "* `Age Bracket` - Categorical variable (0-14, 15-24, 25-34, 35-44, 45-54, 55-64, 65+)\n",
    "* `Case Count` - Continuous observation, 0-n"
   ]
  },
  {
   "cell_type": "markdown",
   "metadata": {},
   "source": [
    "### How is this data messy?\n",
    "Well, a few ways!\n",
    "* Plenty of unnecessary variables. \n",
    "We don't really need year or country. \n",
    "Additionally, we want to exclude all results where we don't have a definitive answer to either age or gender.\n",
    "* The column names hold information about the variables!\n",
    "Consider this: `new_sp_m514`\n",
    "\n",
    "| TB type | Gender | Age Bracket |\n",
    "| - | - | - |\n",
    "| new_sp | m | 5-14 |\n",
    "\n",
    "Ultimately, we will need to aggregate the counts for all types of TB, but that is still included in the column names."
   ]
  },
  {
   "cell_type": "markdown",
   "metadata": {},
   "source": [
    "<hr>\n",
    "\n",
    "## Step 3: Tidy the data!\n",
    "\n",
    "### Identifying the columns that hold our values.\n",
    "Since we are not performing any sort of aggregation based on country/year, we can just target the case-specific columns."
   ]
  },
  {
   "cell_type": "code",
   "execution_count": null,
   "metadata": {},
   "outputs": [],
   "source": [
    "import re\n",
    "\n",
    "\n",
    "def get_gender_age_bracket_specific_columns(df):\n",
    "    pattern = re.compile(r'''\n",
    "    (m|f)                              # has to include gender\n",
    "    (014|1524|2534|3544|4554|5564|65)  # specific age brackets I am interested in\n",
    "    ''', re.VERBOSE)\n",
    "    \n",
    "    return df.columns[df.columns.str.contains(pattern)]"
   ]
  },
  {
   "cell_type": "code",
   "execution_count": null,
   "metadata": {},
   "outputs": [],
   "source": [
    "columns = get_gender_age_bracket_specific_columns(tb_case_notifications)\n",
    "columns"
   ]
  },
  {
   "cell_type": "code",
   "execution_count": null,
   "metadata": {},
   "outputs": [],
   "source": [
    "demo_tb_data_counts = tb_case_notifications[columns]\n",
    "demo_tb_data_counts.head()"
   ]
  },
  {
   "cell_type": "markdown",
   "metadata": {},
   "source": [
    "### Melting data into a manageable form\n",
    "With all of these columns, it can be really hard to manage them all at once.\n",
    "When the columns get melted, you can apply functionality to one column at a time and it affects all of the data."
   ]
  },
  {
   "cell_type": "code",
   "execution_count": null,
   "metadata": {},
   "outputs": [],
   "source": [
    "demo_tb_data_counts = demo_tb_data_counts.melt(var_name='demographics', value_name='tb_count')\n",
    "demo_tb_data_counts"
   ]
  },
  {
   "cell_type": "markdown",
   "metadata": {},
   "source": [
    "### Extract demographic data\n",
    "We want to create 2 new columns that represent `gender` and `age_bracket` independent of one another.\n",
    "Since the data for both variables live in the same column, we can use pandas built in `.str.extract` method to target each group, and create brand new columns by joining them together.\n",
    "Additionally, we can drop the now useless `demographics` column."
   ]
  },
  {
   "cell_type": "code",
   "execution_count": null,
   "metadata": {},
   "outputs": [],
   "source": [
    "pattern = re.compile('''\n",
    ".*\n",
    "(?P<gender>[mf])      # named group, gender\n",
    "(?P<age_bracket>\\d+)  # named group, remaining digits\n",
    "''', re.VERBOSE)\n",
    "\n",
    "\n",
    "demo_tb_data_counts = demo_tb_data_counts \\\n",
    "    .join(demo_tb_data_counts['demographics'].str.extract(pattern, expand=True)) \\\n",
    "    .drop(columns=['demographics'])\n",
    "\n",
    "demo_tb_data_counts"
   ]
  },
  {
   "cell_type": "markdown",
   "metadata": {},
   "source": [
    "### Re-formatting age bracket for better read \n",
    "Adding hyphens or plus signs to better represent ranges."
   ]
  },
  {
   "cell_type": "code",
   "execution_count": null,
   "metadata": {},
   "outputs": [],
   "source": [
    "def reformat_age_bracket(ab):\n",
    "    if ab == '014':\n",
    "        return '0-14'\n",
    "    elif ab == '65':\n",
    "        return '65+'\n",
    "    return ab[:2] + '-' + ab[2:]\n",
    "\n",
    "\n",
    "demo_tb_data_counts['age_bracket'] = demo_tb_data_counts['age_bracket'].apply(reformat_age_bracket)\n",
    "demo_tb_data_counts['age_bracket'].unique()"
   ]
  },
  {
   "cell_type": "markdown",
   "metadata": {},
   "source": [
    "### Finally, we can group the demographics together to get a full count."
   ]
  },
  {
   "cell_type": "code",
   "execution_count": null,
   "metadata": {},
   "outputs": [],
   "source": [
    "demo_tb_data_counts = demo_tb_data_counts.groupby(['gender', 'age_bracket']) \\\n",
    "    ['tb_count'].sum() \\\n",
    "    .to_frame() \\\n",
    "    .reset_index()\n",
    "\n",
    "\n",
    "demo_tb_data_counts"
   ]
  },
  {
   "cell_type": "markdown",
   "metadata": {},
   "source": [
    "## Step 4: Answer your question\n",
    "In this case, a grouped bar chart would show us exactly what we are wanting to know."
   ]
  },
  {
   "cell_type": "code",
   "execution_count": null,
   "metadata": {},
   "outputs": [],
   "source": [
    "# initialize fig/ax\n",
    "fig, ax = plt.subplots(figsize=(16, 6), facecolor='lightyellow')\n",
    "\n",
    "# some setup to help with labelling\n",
    "bar_xticklabels = demo_tb_data_counts['age_bracket'].unique()\n",
    "ind_positions = np.arange(len(bar_xticklabels))\n",
    "bar_width = 0.35\n",
    "\n",
    "# data to populate our plots\n",
    "gender_groups = demo_tb_data_counts.groupby('gender')\n",
    "age_bracket_counts = demo_tb_data_counts.groupby('age_bracket')['tb_count'].mean()\n",
    "\n",
    "# set up bars\n",
    "rect_1 = ax.bar(ind_positions-bar_width/2, gender_groups.get_group('m')['tb_count'], bar_width, label='Men', color='lightblue')\n",
    "rect_2 = ax.bar(ind_positions+bar_width/2, gender_groups.get_group('f')['tb_count'], bar_width, label='Women', color='hotpink')\n",
    "\n",
    "# line/scatter - same data\n",
    "line1 = ax.plot(ind_positions, age_bracket_counts, color='purple')\n",
    "scatter1 = ax.scatter(ind_positions, age_bracket_counts, color='purple', s=40, label='Avg Count', zorder=2)\n",
    "\n",
    "# title\n",
    "ax.set_title('TB Case Count by Gender and Age Bracket', fontdict=PLOT_TITLE_FONTDICT)\n",
    "\n",
    "# y axis setup\n",
    "ax.set_ylabel('TB Case Count', fontdict=PLOT_AXIS_LABEL_FONTDICT)\n",
    "ax.set_yticklabels(['', '2M', '4M', '6M', '8M'], fontdict=PLOT_TICK_FONTDICT)\n",
    "\n",
    "# x-axis setup\n",
    "ax.set_xlabel('Age Brackets', fontdict=PLOT_AXIS_LABEL_FONTDICT)\n",
    "ax.set_xticks(ind_positions)\n",
    "ax.set_xticklabels(bar_xticklabels, fontdict=PLOT_TICK_FONTDICT)\n",
    "\n",
    "# legend\n",
    "ax.legend(title='Gender')\n",
    "\n",
    "# additional styling\n",
    "ax.set_facecolor(\"lightyellow\")\n",
    "\n",
    "# mark the highest with an annotation!\n",
    "tb_max = demo_tb_data_counts['tb_count'].max()\n",
    "ax.annotate(f'25-34 y/o Men with {int(tb_max):,} TB cases!',\n",
    "            xy=(2, tb_max),  # theta, radius\n",
    "            xytext=(0.85, 0.8),    # fraction, fraction\n",
    "            textcoords='figure fraction',\n",
    "            arrowprops=dict(facecolor='black', shrink=0.05, width=1, headwidth=5),\n",
    "            horizontalalignment='right',\n",
    "            verticalalignment='bottom',\n",
    "            size=15\n",
    "            )\n",
    "\n",
    "plt.grid()\n",
    "plt.show();"
   ]
  }
 ],
 "metadata": {
  "kernelspec": {
   "display_name": "Python 3",
   "language": "python",
   "name": "python3"
  },
  "language_info": {
   "codemirror_mode": {
    "name": "ipython",
    "version": 3
   },
   "file_extension": ".py",
   "mimetype": "text/x-python",
   "name": "python",
   "nbconvert_exporter": "python",
   "pygments_lexer": "ipython3",
   "version": "3.7.3"
  }
 },
 "nbformat": 4,
 "nbformat_minor": 2
}
